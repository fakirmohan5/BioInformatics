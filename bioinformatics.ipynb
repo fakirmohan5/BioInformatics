{
  "nbformat": 4,
  "nbformat_minor": 0,
  "metadata": {
    "colab": {
      "name": "bioinformatics.ipynb",
      "provenance": [],
      "authorship_tag": "ABX9TyOIXO4rvS0n6TJE2chXW7gV",
      "include_colab_link": true
    },
    "kernelspec": {
      "name": "python3",
      "display_name": "Python 3"
    },
    "language_info": {
      "name": "python"
    }
  },
  "cells": [
    {
      "cell_type": "markdown",
      "metadata": {
        "id": "view-in-github",
        "colab_type": "text"
      },
      "source": [
        "<a href=\"https://colab.research.google.com/github/fakirmohan5/Bioinformatics/blob/main/bioinformatics.ipynb\" target=\"_parent\"><img src=\"https://colab.research.google.com/assets/colab-badge.svg\" alt=\"Open In Colab\"/></a>"
      ]
    },
    {
      "cell_type": "code",
      "metadata": {
        "colab": {
          "base_uri": "https://localhost:8080/",
          "height": 246
        },
        "id": "uCYNIx5vmhMA",
        "outputId": "0cf48704-bbcb-40fd-b402-211efe44a0fd"
      },
      "source": [
        "p_genome = open('Vibrio_cholerae.txt','r').read()\n",
        "p_pattern = \"CTTGATCAT\"\n",
        "\n",
        "\n",
        "def find_all_occurence(p_genome, p_pattern):\n",
        "    return (i for i in range(len(p_genome)) if p_genome.startswith(p_pattern, i))\n",
        "\n",
        "\n",
        "print(' '.join(map(str, find_all_occurence(p_genome, p_pattern))))"
      ],
      "execution_count": null,
      "outputs": [
        {
          "output_type": "error",
          "ename": "FileNotFoundError",
          "evalue": "ignored",
          "traceback": [
            "\u001b[0;31m---------------------------------------------------------------------------\u001b[0m",
            "\u001b[0;31mFileNotFoundError\u001b[0m                         Traceback (most recent call last)",
            "\u001b[0;32m<ipython-input-1-1a6d9dfbf983>\u001b[0m in \u001b[0;36m<module>\u001b[0;34m()\u001b[0m\n\u001b[0;32m----> 1\u001b[0;31m \u001b[0mp_genome\u001b[0m \u001b[0;34m=\u001b[0m \u001b[0mopen\u001b[0m\u001b[0;34m(\u001b[0m\u001b[0;34m'Vibrio_cholerae.txt'\u001b[0m\u001b[0;34m,\u001b[0m\u001b[0;34m'r'\u001b[0m\u001b[0;34m)\u001b[0m\u001b[0;34m.\u001b[0m\u001b[0mread\u001b[0m\u001b[0;34m(\u001b[0m\u001b[0;34m)\u001b[0m\u001b[0;34m\u001b[0m\u001b[0;34m\u001b[0m\u001b[0m\n\u001b[0m\u001b[1;32m      2\u001b[0m \u001b[0mp_pattern\u001b[0m \u001b[0;34m=\u001b[0m \u001b[0;34m\"CTTGATCAT\"\u001b[0m\u001b[0;34m\u001b[0m\u001b[0;34m\u001b[0m\u001b[0m\n\u001b[1;32m      3\u001b[0m \u001b[0;34m\u001b[0m\u001b[0m\n\u001b[1;32m      4\u001b[0m \u001b[0;34m\u001b[0m\u001b[0m\n\u001b[1;32m      5\u001b[0m \u001b[0;32mdef\u001b[0m \u001b[0mfind_all_occurence\u001b[0m\u001b[0;34m(\u001b[0m\u001b[0mp_genome\u001b[0m\u001b[0;34m,\u001b[0m \u001b[0mp_pattern\u001b[0m\u001b[0;34m)\u001b[0m\u001b[0;34m:\u001b[0m\u001b[0;34m\u001b[0m\u001b[0;34m\u001b[0m\u001b[0m\n",
            "\u001b[0;31mFileNotFoundError\u001b[0m: [Errno 2] No such file or directory: 'Vibrio_cholerae.txt'"
          ]
        }
      ]
    }
  ]
}